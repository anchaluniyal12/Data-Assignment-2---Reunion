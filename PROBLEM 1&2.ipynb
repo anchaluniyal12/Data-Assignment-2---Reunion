{
  "nbformat": 4,
  "nbformat_minor": 0,
  "metadata": {
    "colab": {
      "provenance": []
    },
    "kernelspec": {
      "name": "python3",
      "display_name": "Python 3"
    },
    "language_info": {
      "name": "python"
    }
  },
  "cells": [
    {
      "cell_type": "markdown",
      "source": [
        "PROBLEM 1."
      ],
      "metadata": {
        "id": "HK5htFF5YCxk"
      }
    },
    {
      "cell_type": "code",
      "execution_count": null,
      "metadata": {
        "id": "0ouBAD1V7j-k"
      },
      "outputs": [],
      "source": [
        "import sqlite3"
      ]
    },
    {
      "cell_type": "code",
      "source": [
        "!pip install faker"
      ],
      "metadata": {
        "colab": {
          "base_uri": "https://localhost:8080/"
        },
        "id": "gHEWPzdg8H5L",
        "outputId": "89829d5c-0ac5-48ba-dff5-0e61c4fc1d98"
      },
      "execution_count": null,
      "outputs": [
        {
          "output_type": "stream",
          "name": "stdout",
          "text": [
            "Collecting faker\n",
            "  Downloading Faker-26.0.0-py3-none-any.whl.metadata (15 kB)\n",
            "Requirement already satisfied: python-dateutil>=2.4 in /usr/local/lib/python3.10/dist-packages (from faker) (2.8.2)\n",
            "Requirement already satisfied: six>=1.5 in /usr/local/lib/python3.10/dist-packages (from python-dateutil>=2.4->faker) (1.16.0)\n",
            "Downloading Faker-26.0.0-py3-none-any.whl (1.8 MB)\n",
            "\u001b[2K   \u001b[90m━━━━━━━━━━━━━━━━━━━━━━━━━━━━━━━━━━━━━━━━\u001b[0m \u001b[32m1.8/1.8 MB\u001b[0m \u001b[31m21.1 MB/s\u001b[0m eta \u001b[36m0:00:00\u001b[0m\n",
            "\u001b[?25hInstalling collected packages: faker\n",
            "Successfully installed faker-26.0.0\n"
          ]
        }
      ]
    },
    {
      "cell_type": "code",
      "source": [
        "import random\n",
        "from faker import Faker\n",
        "import datetime\n",
        "\n",
        "# Initialize Faker\n",
        "fake = Faker()\n",
        "\n",
        "# Connect to SQLite database\n",
        "conn = sqlite3.connect('ecommerce.db')\n",
        "cursor = conn.cursor()"
      ],
      "metadata": {
        "id": "ULS_vyur7qOz"
      },
      "execution_count": null,
      "outputs": []
    },
    {
      "cell_type": "code",
      "source": [
        "cursor.execute('''\n",
        "CREATE TABLE IF NOT EXISTS Product (\n",
        "    ProductID INTEGER PRIMARY KEY,\n",
        "    Name TEXT,\n",
        "    Category TEXT,\n",
        "    Description TEXT,\n",
        "    Discontinued BOOLEAN\n",
        ")\n",
        "''')"
      ],
      "metadata": {
        "colab": {
          "base_uri": "https://localhost:8080/"
        },
        "id": "GI_-LISy8NQP",
        "outputId": "bb5f72e7-9d06-44f0-dc75-e14371a00f5f"
      },
      "execution_count": null,
      "outputs": [
        {
          "output_type": "execute_result",
          "data": {
            "text/plain": [
              "<sqlite3.Cursor at 0x7f6e9af90cc0>"
            ]
          },
          "metadata": {},
          "execution_count": 5
        }
      ]
    },
    {
      "cell_type": "code",
      "source": [
        "cursor.execute('''\n",
        "CREATE TABLE IF NOT EXISTS Variants (\n",
        "    VariantID INTEGER PRIMARY KEY,\n",
        "    ProductID INTEGER,\n",
        "    Name TEXT,\n",
        "    Price REAL,\n",
        "    Stock INTEGER,\n",
        "    Discontinued BOOLEAN,\n",
        "    FOREIGN KEY(ProductID) REFERENCES Product(ProductID)\n",
        ")\n",
        "''')\n"
      ],
      "metadata": {
        "colab": {
          "base_uri": "https://localhost:8080/"
        },
        "id": "VgYB9H7s8Uav",
        "outputId": "40f23872-1911-4cba-fba0-5bddb62ae5bf"
      },
      "execution_count": null,
      "outputs": [
        {
          "output_type": "execute_result",
          "data": {
            "text/plain": [
              "<sqlite3.Cursor at 0x7f6e9af90cc0>"
            ]
          },
          "metadata": {},
          "execution_count": 6
        }
      ]
    },
    {
      "cell_type": "code",
      "source": [
        "cursor.execute('''\n",
        "CREATE TABLE IF NOT EXISTS Customer (\n",
        "    CustomerID INTEGER PRIMARY KEY,\n",
        "    Name TEXT,\n",
        "    Email TEXT,\n",
        "    Phone TEXT,\n",
        "    Address TEXT,\n",
        "    DateOfBirth DATE\n",
        ")\n",
        "''')"
      ],
      "metadata": {
        "colab": {
          "base_uri": "https://localhost:8080/"
        },
        "id": "41HgcSQa8aUP",
        "outputId": "e585112b-3c92-42ef-9484-6ecb5172ba69"
      },
      "execution_count": null,
      "outputs": [
        {
          "output_type": "execute_result",
          "data": {
            "text/plain": [
              "<sqlite3.Cursor at 0x7f6e9af90cc0>"
            ]
          },
          "metadata": {},
          "execution_count": 7
        }
      ]
    },
    {
      "cell_type": "code",
      "source": [
        "cursor.execute('''\n",
        "CREATE TABLE IF NOT EXISTS `Order` (\n",
        "    OrderID INTEGER PRIMARY KEY,\n",
        "    CustomerID INTEGER,\n",
        "    OrderDate DATE,\n",
        "    TotalAmount REAL,\n",
        "    FOREIGN KEY(CustomerID) REFERENCES Customer(CustomerID)\n",
        ")\n",
        "''')"
      ],
      "metadata": {
        "colab": {
          "base_uri": "https://localhost:8080/"
        },
        "id": "cBVr0sle8lEz",
        "outputId": "d30db280-a24c-4a76-fcd7-b21ce76db3bf"
      },
      "execution_count": null,
      "outputs": [
        {
          "output_type": "execute_result",
          "data": {
            "text/plain": [
              "<sqlite3.Cursor at 0x7f6e9af90cc0>"
            ]
          },
          "metadata": {},
          "execution_count": 8
        }
      ]
    },
    {
      "cell_type": "code",
      "source": [
        "cursor.execute('''\n",
        "CREATE TABLE IF NOT EXISTS OrderItem (\n",
        "    OrderItemID INTEGER PRIMARY KEY,\n",
        "    OrderID INTEGER,\n",
        "    VariantID INTEGER,\n",
        "    Quantity INTEGER,\n",
        "    PriceAtOrderTime REAL,\n",
        "    FOREIGN KEY(OrderID) REFERENCES `Order`(OrderID),\n",
        "    FOREIGN KEY(VariantID) REFERENCES Variant(VariantID)\n",
        ")\n",
        "''')"
      ],
      "metadata": {
        "colab": {
          "base_uri": "https://localhost:8080/"
        },
        "id": "ajkKP-3G8lyL",
        "outputId": "62d65596-961a-4604-9b6d-c0a907de72eb"
      },
      "execution_count": null,
      "outputs": [
        {
          "output_type": "execute_result",
          "data": {
            "text/plain": [
              "<sqlite3.Cursor at 0x7f6e9af90cc0>"
            ]
          },
          "metadata": {},
          "execution_count": 9
        }
      ]
    },
    {
      "cell_type": "code",
      "source": [
        "cursor.execute('''\n",
        "INSERT INTO Product (ProductID, Name, Category, Description, Discontinued) VALUES\n",
        "(1, 'Laptop', 'Electronics', 'High-performance laptop', 0),\n",
        "(2, 'T-shirt', 'Clothing', 'Cotton T-shirt', 0),\n",
        "(3, 'Smartphone', 'Electronics', 'Latest model smartphone', 0),\n",
        "(4, 'Jeans', 'Clothing', 'Blue denim jeans', 0),\n",
        "(5, 'Rice', 'Groceries', 'Premium quality rice', 0),\n",
        "(6, 'Washing Machine', 'Electronics', 'Front-load washing machine', 0),\n",
        "(7, 'Headphones', 'Electronics', 'Noise-cancelling headphones', 0),\n",
        "(8, 'Jacket', 'Clothing', 'Winter jacket', 0),\n",
        "(9, 'Sweater', 'Clothing', 'Wool sweater', 0),\n",
        "(10, 'Pasta', 'Groceries', 'Italian pasta', 0),\n",
        "(11, 'Olive Oil', 'Groceries', 'Extra virgin olive oil', 0),\n",
        "(12, 'Monitor', 'Electronics', '4K ultra HD monitor', 0),\n",
        "(13, 'Blender', 'Electronics', 'High-speed blender', 0),\n",
        "(14, 'Coffee Maker', 'Electronics', 'Automatic coffee maker', 0),\n",
        "(15, 'Salt', 'Groceries', 'Refined table salt', 0)\n",
        "''')\n",
        "\n",
        "# Commit the changes\n",
        "conn.commit()\n",
        "\n",
        "# Verify the data insertion\n",
        "cursor.execute('SELECT * FROM Product')\n",
        "rows = cursor.fetchall()\n",
        "for row in rows:\n",
        "    print(row)"
      ],
      "metadata": {
        "colab": {
          "base_uri": "https://localhost:8080/"
        },
        "id": "m_94swkmEAaz",
        "outputId": "c5afb4a6-2130-49f7-d6ad-0fa085320f4b"
      },
      "execution_count": null,
      "outputs": [
        {
          "output_type": "stream",
          "name": "stdout",
          "text": [
            "(1, 'Laptop', 'Electronics', 'High-performance laptop', 0)\n",
            "(2, 'T-shirt', 'Clothing', 'Cotton T-shirt', 0)\n",
            "(3, 'Smartphone', 'Electronics', 'Latest model smartphone', 0)\n",
            "(4, 'Jeans', 'Clothing', 'Blue denim jeans', 0)\n",
            "(5, 'Rice', 'Groceries', 'Premium quality rice', 0)\n",
            "(6, 'Washing Machine', 'Electronics', 'Front-load washing machine', 0)\n",
            "(7, 'Headphones', 'Electronics', 'Noise-cancelling headphones', 0)\n",
            "(8, 'Jacket', 'Clothing', 'Winter jacket', 0)\n",
            "(9, 'Sweater', 'Clothing', 'Wool sweater', 0)\n",
            "(10, 'Pasta', 'Groceries', 'Italian pasta', 0)\n",
            "(11, 'Olive Oil', 'Groceries', 'Extra virgin olive oil', 0)\n",
            "(12, 'Monitor', 'Electronics', '4K ultra HD monitor', 0)\n",
            "(13, 'Blender', 'Electronics', 'High-speed blender', 0)\n",
            "(14, 'Coffee Maker', 'Electronics', 'Automatic coffee maker', 0)\n",
            "(15, 'Salt', 'Groceries', 'Refined table salt', 0)\n"
          ]
        }
      ]
    },
    {
      "cell_type": "code",
      "source": [
        "clothing_colors = ['Red', 'Blue', 'Green', 'Black', 'White', 'Yellow', 'Purple', 'Orange']\n",
        "clothing_sizes = ['Small', 'Medium', 'Large', 'X-Large', 'XX-Large']\n",
        "\n",
        "# Define discontinued status\n",
        "discontinued_status = [0, 1]  # 0 for not discontinued, 1 for discontinued\n",
        "\n",
        "# Generate variants data\n",
        "variants = []\n",
        "for product_id in range(1, 16):  # Assuming product IDs from 1 to 15\n",
        "    if product_id in [2, 4, 8, 9]:  # Clothing items\n",
        "        for _ in range(random.randint(1, 3)):  # Each clothing item can have 1 to 3 variants\n",
        "            name = f\"{random.choice(clothing_colors)} {random.choice(clothing_sizes)}\"\n",
        "            price = round(random.uniform(10.0, 80.0), 2)  # Random price between 10 and 80\n",
        "            stock = random.randint(0, 50)  # Random stock between 0 and 50\n",
        "            discontinued = random.choice(discontinued_status)  # Randomly choose discontinued status\n",
        "            variants.append((\n",
        "                product_id,        # ProductID\n",
        "                name,             # Variant Name\n",
        "                price,            # Price\n",
        "                stock,            # Stock\n",
        "                discontinued      # Discontinued\n",
        "            ))\n",
        "    elif product_id in [1, 3, 6, 7, 12, 13, 14]:  # Electronics items\n",
        "        for _ in range(random.randint(1, 2)):  # Each electronics item can have 1 to 2 variants\n",
        "            name = f\"{random.choice(['Standard', 'Deluxe'])} {random.choice(['Version', 'Edition'])}\"\n",
        "            price = round(random.uniform(50.0, 500.0), 2)  # Random price between 50 and 500\n",
        "            stock = random.randint(0, 30)  # Random stock between 0 and 30\n",
        "            discontinued = random.choice(discontinued_status)  # Randomly choose discontinued status\n",
        "            variants.append((\n",
        "                product_id,        # ProductID\n",
        "                name,             # Variant Name\n",
        "                price,            # Price\n",
        "                stock,            # Stock\n",
        "                discontinued      # Discontinued\n",
        "            ))\n",
        "    elif product_id in [5, 10, 11, 15]:  # Groceries items\n",
        "        for _ in range(random.randint(1, 2)):  # Each groceries item can have 1 to 2 variants\n",
        "            name = f\"{random.choice(['Pack', 'Bulk'])} {random.choice(['Size', 'Type'])}\"\n",
        "            price = round(random.uniform(5.0, 20.0), 2)  # Random price between 5 and 20\n",
        "            stock = random.randint(0, 100)  # Random stock between 0 and 100\n",
        "            discontinued = random.choice(discontinued_status)  # Randomly choose discontinued status\n",
        "            variants.append((\n",
        "                product_id,        # ProductID\n",
        "                name,             # Variant Name\n",
        "                price,            # Price\n",
        "                stock,            # Stock\n",
        "                discontinued      # Discontinued\n",
        "            ))\n",
        "\n",
        "# Insert data into Variant table\n",
        "cursor.executemany('''\n",
        "INSERT INTO Variants (ProductID, Name, Price, Stock, Discontinued) VALUES (?, ?, ?, ?, ?)\n",
        "''', variants)\n",
        "\n",
        "# Commit the changes\n",
        "conn.commit()\n",
        "\n",
        "# Verify the data insertion\n",
        "cursor.execute('SELECT * FROM Variants')\n",
        "rows = cursor.fetchall()\n",
        "for row in rows:\n",
        "    print(row)"
      ],
      "metadata": {
        "colab": {
          "base_uri": "https://localhost:8080/"
        },
        "id": "yc1FmwqKEAXP",
        "outputId": "33f4e875-6219-432e-ee8d-324626f68217"
      },
      "execution_count": null,
      "outputs": [
        {
          "output_type": "stream",
          "name": "stdout",
          "text": [
            "(1, 1, 'Standard Edition', 70.55, 12, 0)\n",
            "(2, 2, 'Red Medium', 59.07, 27, 1)\n",
            "(3, 3, 'Standard Edition', 345.82, 29, 0)\n",
            "(4, 4, 'White Large', 39.08, 15, 1)\n",
            "(5, 5, 'Pack Type', 8.96, 19, 1)\n",
            "(6, 5, 'Pack Type', 11.43, 26, 0)\n",
            "(7, 6, 'Standard Version', 191.3, 15, 1)\n",
            "(8, 7, 'Deluxe Edition', 134.43, 19, 0)\n",
            "(9, 7, 'Standard Edition', 384.29, 14, 1)\n",
            "(10, 8, 'Purple Small', 29.09, 48, 1)\n",
            "(11, 8, 'Blue Medium', 63.41, 49, 1)\n",
            "(12, 9, 'Black Small', 71.96, 9, 0)\n",
            "(13, 9, 'Yellow Small', 33.86, 37, 0)\n",
            "(14, 9, 'Blue X-Large', 69.88, 49, 1)\n",
            "(15, 10, 'Bulk Size', 14.0, 36, 1)\n",
            "(16, 11, 'Pack Type', 13.23, 13, 1)\n",
            "(17, 11, 'Bulk Type', 14.19, 31, 0)\n",
            "(18, 12, 'Standard Edition', 492.06, 20, 1)\n",
            "(19, 13, 'Standard Version', 382.63, 17, 0)\n",
            "(20, 13, 'Deluxe Edition', 192.38, 8, 0)\n",
            "(21, 14, 'Standard Edition', 486.03, 17, 1)\n",
            "(22, 15, 'Pack Type', 16.73, 77, 0)\n",
            "(23, 15, 'Bulk Size', 15.0, 30, 1)\n",
            "(24, 1, 'Standard Edition', 447.34, 4, 0)\n",
            "(25, 1, 'Deluxe Version', 379.66, 4, 0)\n",
            "(26, 2, 'Purple XX-Large', 36.68, 36, 1)\n",
            "(27, 2, 'White X-Large', 51.63, 18, 0)\n",
            "(28, 3, 'Deluxe Version', 434.02, 13, 1)\n",
            "(29, 3, 'Standard Edition', 276.58, 20, 1)\n",
            "(30, 4, 'Black Large', 46.58, 21, 0)\n",
            "(31, 4, 'Black Small', 37.38, 47, 0)\n",
            "(32, 4, 'Red Small', 37.6, 33, 1)\n",
            "(33, 5, 'Bulk Type', 5.92, 22, 1)\n",
            "(34, 5, 'Bulk Size', 12.84, 39, 0)\n",
            "(35, 6, 'Standard Edition', 259.97, 25, 1)\n",
            "(36, 7, 'Standard Version', 285.89, 9, 0)\n",
            "(37, 8, 'Green XX-Large', 63.36, 1, 1)\n",
            "(38, 8, 'Blue Medium', 14.98, 40, 1)\n",
            "(39, 8, 'Green Small', 72.32, 25, 1)\n",
            "(40, 9, 'White X-Large', 57.08, 37, 1)\n",
            "(41, 9, 'Purple X-Large', 14.68, 17, 1)\n",
            "(42, 9, 'Green Large', 73.42, 42, 1)\n",
            "(43, 10, 'Bulk Type', 15.83, 26, 1)\n",
            "(44, 11, 'Pack Size', 7.15, 92, 0)\n",
            "(45, 12, 'Standard Edition', 192.2, 0, 0)\n",
            "(46, 12, 'Standard Version', 220.54, 20, 0)\n",
            "(47, 13, 'Deluxe Version', 450.66, 3, 0)\n",
            "(48, 14, 'Standard Version', 287.4, 26, 0)\n",
            "(49, 15, 'Bulk Type', 6.11, 70, 1)\n",
            "(50, 15, 'Bulk Size', 16.8, 14, 0)\n"
          ]
        }
      ]
    },
    {
      "cell_type": "code",
      "source": [
        "import datetime\n",
        "customers = []\n",
        "for _ in range(20):\n",
        "    customers.append((\n",
        "        fake.name(),               # Name\n",
        "        fake.email(),              # Email\n",
        "        fake.phone_number(),       # Phone\n",
        "        fake.address(),            # Address\n",
        "        fake.date_of_birth(minimum_age=18, maximum_age=80)  # DateOfBirth (no .date())\n",
        "    ))\n",
        "\n",
        "# Insert sample data into Customer table\n",
        "cursor.executemany('INSERT INTO Customer (Name, Email, Phone, Address, DateOfBirth) VALUES (?, ?, ?, ?, ?)', customers)\n",
        "# Commit and close the connection"
      ],
      "metadata": {
        "colab": {
          "base_uri": "https://localhost:8080/"
        },
        "id": "h-wjNKjNEATQ",
        "outputId": "a9d3c79b-b410-4177-b9d4-df7c00f5bdbc"
      },
      "execution_count": null,
      "outputs": [
        {
          "output_type": "execute_result",
          "data": {
            "text/plain": [
              "<sqlite3.Cursor at 0x7f6e9af90cc0>"
            ]
          },
          "metadata": {},
          "execution_count": 14
        }
      ]
    },
    {
      "cell_type": "code",
      "source": [
        "cursor.execute('SELECT * FROM Customer')\n",
        "rows = cursor.fetchall()\n",
        "for row in rows:\n",
        "    print(row)"
      ],
      "metadata": {
        "colab": {
          "base_uri": "https://localhost:8080/"
        },
        "id": "ZGo9pFkSEARb",
        "outputId": "b95bf45a-fc03-479f-db52-9bc8efdf708b"
      },
      "execution_count": null,
      "outputs": [
        {
          "output_type": "stream",
          "name": "stdout",
          "text": [
            "(1, 'Breanna Malone', 'lorikelly@example.org', '259-986-1861', '90119 Eric Road\\nMarktown, CT 00888', '1949-10-01')\n",
            "(2, 'Christine Tyler', 'urichardson@example.org', '(959)372-4903', 'Unit 2571 Box 2226\\nDPO AP 04829', '1967-05-23')\n",
            "(3, 'Shelly Green', 'shari36@example.com', '8313563167', '2422 Anita Center\\nPaulaton, WY 99560', '1972-09-03')\n",
            "(4, 'Ryan Harris', 'bryanjohn@example.com', '001-225-496-2176x17100', '872 Lyons Fords Apt. 296\\nBradton, MS 57208', '1999-05-09')\n",
            "(5, 'Wendy York', 'maynardchristopher@example.net', '832.499.6421x519', 'USS Johnson\\nFPO AA 79969', '1968-11-10')\n",
            "(6, 'David Wells', 'john45@example.org', '2418848524', '64749 King Estates Apt. 448\\nJillianside, FL 49738', '1966-08-22')\n",
            "(7, 'Trevor Hernandez', 'vwright@example.com', '654-415-8414x07189', '26161 Kennedy Summit\\nPatrickburgh, MP 42297', '1962-06-27')\n",
            "(8, 'Jessica Richards', 'naustin@example.org', '744-882-2228x3041', '37806 Vargas Points\\nNorth Scottfurt, NM 21989', '1953-06-26')\n",
            "(9, 'Nicole Harper', 'solisjennifer@example.org', '685-656-2811', '4610 Cody Motorway\\nAndreamouth, IA 18751', '1984-07-29')\n",
            "(10, 'Janice Avila', 'rcase@example.com', '(241)343-3952', '3705 Jodi Skyway Suite 367\\nBakerfurt, MH 23191', '1963-07-31')\n",
            "(11, 'John Kennedy', 'pvaldez@example.net', '543-741-0779x0226', '93067 Joshua Vista Suite 834\\nPort Cheyenne, FM 75020', '1961-12-11')\n",
            "(12, 'Shelby Johnson', 'blackmichael@example.com', '736.856.6277x16821', '666 Murphy Park\\nPort James, MA 65794', '1949-02-20')\n",
            "(13, 'Thomas Foster', 'billyjackson@example.org', '(923)931-9205', '18447 Billy Course\\nCombsfort, ME 73490', '1973-01-29')\n",
            "(14, 'Christina Walker', 'glovertraci@example.org', '213.590.7129', '0255 Rebecca Trail Suite 558\\nLake Tina, MN 10465', '1982-05-17')\n",
            "(15, 'Kenneth Miller', 'jessicamorrison@example.com', '698-288-1625x1952', '79399 Bradley Pine\\nPort Samanthaborough, NY 85479', '1944-01-05')\n",
            "(16, 'Randall Robinson', 'smithkathryn@example.com', '001-676-303-3534x979', '733 Heather Parks Apt. 145\\nBrianfurt, IA 73676', '1986-04-11')\n",
            "(17, 'Brandon Holland', 'rnelson@example.net', '(816)586-4974x12141', '200 Mark Inlet Suite 898\\nNorth Jeremy, KY 65186', '1963-08-04')\n",
            "(18, 'Samantha Kent', 'wendy99@example.net', '(849)622-2134', '7423 Ann Extension Suite 735\\nMasonfort, IA 21143', '1994-03-01')\n",
            "(19, 'David Morris', 'tony40@example.org', '8253573527', '9911 Turner Isle\\nNew Andrea, NY 41446', '1946-10-11')\n",
            "(20, 'Sandra Calderon', 'paulsmith@example.net', '514-291-9961x845', '22679 Troy Crescent\\nDavisberg, ME 82075', '1996-08-19')\n"
          ]
        }
      ]
    },
    {
      "cell_type": "code",
      "source": [
        "from datetime import datetime, timedelta\n",
        "import random\n",
        "def random_date():\n",
        "    start_date = datetime.now() - timedelta(days=730)  # 2 years ago\n",
        "    end_date = datetime.now()\n",
        "    return start_date + (end_date - start_date) * random.random()\n",
        "\n",
        "# Insert 10 rows into the Order table\n",
        "for order_id in range(1, 21):\n",
        "    customer_id = random.randint(1, 20)  # Assuming we have 10 customers\n",
        "    order_date = random_date().date()    # Random date within the last 2 years\n",
        "    total_amount = round(random.uniform(20.0, 500.0), 2)  # Random total amount between 20 and 500\n",
        "\n",
        "    cursor.execute('''\n",
        "    INSERT INTO `Order` (OrderID, CustomerID, OrderDate, TotalAmount)\n",
        "    VALUES (?, ?, ?, ?)\n",
        "    ''', (order_id, customer_id, order_date, total_amount))"
      ],
      "metadata": {
        "id": "IAj3tin-EAPy"
      },
      "execution_count": null,
      "outputs": []
    },
    {
      "cell_type": "code",
      "source": [
        "insert_query = '''\n",
        "INSERT INTO \"Order\" (OrderID, CustomerID, OrderDate, TotalAmount) VALUES\n",
        "(21, 2, '2024-01-15', 210.00),\n",
        "(22, 3, '2024-02-20', 345.67),\n",
        "(23, 4, '2024-03-05', 275.43),\n",
        "(24, 5, '2024-01-25', 128.99),\n",
        "(25, 6, '2024-02-28', 189.49),\n",
        "(26, 7, '2024-03-10', 312.76),\n",
        "(27, 8, '2024-03-15', 298.52),\n",
        "(28, 9, '2024-02-08', 432.61),\n",
        "(29, 10, '2024-01-12', 250.88),\n",
        "(30, 1, '2024-03-22', 175.33)\n",
        "'''\n",
        "\n",
        "# Execute the insert query\n",
        "cursor.executescript(insert_query)\n",
        "\n"
      ],
      "metadata": {
        "colab": {
          "base_uri": "https://localhost:8080/"
        },
        "id": "iSzqXr-iHLJX",
        "outputId": "58803477-17f9-45fd-80bb-37deba5efdb4"
      },
      "execution_count": null,
      "outputs": [
        {
          "output_type": "execute_result",
          "data": {
            "text/plain": [
              "<sqlite3.Cursor at 0x7f6e9af90cc0>"
            ]
          },
          "metadata": {},
          "execution_count": 19
        }
      ]
    },
    {
      "cell_type": "code",
      "source": [
        "cursor.execute('SELECT * FROM `Order`')\n",
        "rows = cursor.fetchall()\n",
        "for row in rows:\n",
        "    print(row)"
      ],
      "metadata": {
        "colab": {
          "base_uri": "https://localhost:8080/"
        },
        "id": "hvKrhidjEAOK",
        "outputId": "8af16775-8f69-4460-92ed-26067e671329"
      },
      "execution_count": null,
      "outputs": [
        {
          "output_type": "stream",
          "name": "stdout",
          "text": [
            "(1, 16, '2022-12-31', 402.46)\n",
            "(2, 17, '2023-09-14', 94.39)\n",
            "(3, 1, '2023-08-27', 125.89)\n",
            "(4, 17, '2023-03-09', 319.81)\n",
            "(5, 14, '2022-11-30', 466.27)\n",
            "(6, 6, '2022-11-20', 224.37)\n",
            "(7, 13, '2024-03-14', 71.1)\n",
            "(8, 15, '2023-04-14', 333.42)\n",
            "(9, 13, '2024-04-02', 495.86)\n",
            "(10, 5, '2023-05-13', 319.81)\n",
            "(11, 9, '2023-04-10', 268.36)\n",
            "(12, 12, '2023-03-16', 170.37)\n",
            "(13, 10, '2024-07-06', 196.58)\n",
            "(14, 8, '2023-03-21', 271.11)\n",
            "(15, 9, '2023-01-30', 350.54)\n",
            "(16, 16, '2023-05-17', 87.72)\n",
            "(17, 16, '2023-03-28', 478.32)\n",
            "(18, 3, '2023-09-17', 385.27)\n",
            "(19, 6, '2023-01-22', 354.72)\n",
            "(20, 8, '2023-03-26', 490.03)\n",
            "(21, 2, '2024-01-15', 210.0)\n",
            "(22, 3, '2024-02-20', 345.67)\n",
            "(23, 4, '2024-03-05', 275.43)\n",
            "(24, 5, '2024-01-25', 128.99)\n",
            "(25, 6, '2024-02-28', 189.49)\n",
            "(26, 7, '2024-03-10', 312.76)\n",
            "(27, 8, '2024-03-15', 298.52)\n",
            "(28, 9, '2024-02-08', 432.61)\n",
            "(29, 10, '2024-01-12', 250.88)\n",
            "(30, 1, '2024-03-22', 175.33)\n"
          ]
        }
      ]
    },
    {
      "cell_type": "code",
      "source": [
        "for order_item_id in range(1, 31):\n",
        "    order_id = random.randint(1, 30)  # Assuming you have orders with IDs ranging from 1 to 10\n",
        "    variant_id = random.randint(1, 50)  # Assuming you have variants with IDs ranging from 1 to 10\n",
        "    quantity = random.randint(1, 5)  # Random quantity between 1 and 5\n",
        "    price_at_order_time = round(random.uniform(5.0, 100.0), 2)  # Random price between 5 and 100\n",
        "\n",
        "    cursor.execute('''\n",
        "    INSERT INTO OrderItem (OrderItemID, OrderID, VariantID, Quantity, PriceAtOrderTime)\n",
        "    VALUES (?, ?, ?, ?, ?)\n",
        "    ''', (order_item_id, order_id, variant_id, quantity, price_at_order_time))"
      ],
      "metadata": {
        "id": "D19joTm0EAMG"
      },
      "execution_count": null,
      "outputs": []
    },
    {
      "cell_type": "code",
      "source": [
        "cursor.execute('SELECT * FROM OrderItem')\n",
        "rows = cursor.fetchall()\n",
        "for row in rows:\n",
        "    print(row)"
      ],
      "metadata": {
        "colab": {
          "base_uri": "https://localhost:8080/"
        },
        "id": "xHG6xg4BEAKj",
        "outputId": "60147574-3769-4454-ae09-c7897e6baa15"
      },
      "execution_count": null,
      "outputs": [
        {
          "output_type": "stream",
          "name": "stdout",
          "text": [
            "(1, 18, 15, 3, 29.14)\n",
            "(2, 2, 44, 2, 69.74)\n",
            "(3, 20, 18, 2, 36.42)\n",
            "(4, 22, 27, 5, 81.53)\n",
            "(5, 7, 47, 5, 84.03)\n",
            "(6, 26, 35, 5, 36.78)\n",
            "(7, 15, 46, 3, 23.37)\n",
            "(8, 10, 9, 2, 82.43)\n",
            "(9, 23, 37, 2, 42.89)\n",
            "(10, 5, 23, 1, 71.34)\n",
            "(11, 12, 46, 2, 18.43)\n",
            "(12, 14, 40, 2, 15.26)\n",
            "(13, 14, 23, 5, 58.14)\n",
            "(14, 20, 13, 3, 52.2)\n",
            "(15, 8, 28, 2, 67.44)\n",
            "(16, 19, 26, 3, 55.94)\n",
            "(17, 27, 38, 1, 78.63)\n",
            "(18, 22, 24, 1, 83.36)\n",
            "(19, 27, 28, 1, 77.5)\n",
            "(20, 4, 39, 5, 38.77)\n",
            "(21, 9, 44, 3, 20.53)\n",
            "(22, 24, 37, 3, 47.09)\n",
            "(23, 21, 12, 1, 10.48)\n",
            "(24, 27, 42, 2, 51.02)\n",
            "(25, 3, 17, 3, 59.06)\n",
            "(26, 2, 11, 5, 66.75)\n",
            "(27, 15, 33, 3, 72.37)\n",
            "(28, 20, 1, 4, 62.61)\n",
            "(29, 14, 36, 1, 46.48)\n",
            "(30, 22, 16, 3, 53.56)\n"
          ]
        }
      ]
    },
    {
      "cell_type": "markdown",
      "source": [
        "PROBLEM 2\n"
      ],
      "metadata": {
        "id": "ASHiECPGYO0x"
      }
    },
    {
      "cell_type": "markdown",
      "source": [
        "Retrieve the top 5 customers who have made the highest average order amounts in the last 6 months. The average order amount should be calculated for each customer, and the result should be sorted in descending order."
      ],
      "metadata": {
        "id": "a32e7WZ6GVhK"
      }
    },
    {
      "cell_type": "code",
      "source": [
        "query = '''\n",
        "SELECT\n",
        "    c.CustomerID,\n",
        "    c.Name,\n",
        "    AVG(o.TotalAmount) AS AvgOrderAmount\n",
        "FROM\n",
        "    `Order` o\n",
        "JOIN\n",
        "    Customer c ON o.CustomerID = c.CustomerID\n",
        "WHERE\n",
        "    o.OrderDate >= DATE('now', '-6 months')\n",
        "GROUP BY\n",
        "    c.CustomerID, c.Name\n",
        "ORDER BY\n",
        "    AvgOrderAmount DESC\n",
        "LIMIT 5;\n",
        "'''\n",
        "\n",
        "# Execute the query\n",
        "cursor.execute(query)\n",
        "\n",
        "# Fetch all results\n",
        "results = cursor.fetchall()"
      ],
      "metadata": {
        "id": "LJ80eANsGKCH"
      },
      "execution_count": null,
      "outputs": []
    },
    {
      "cell_type": "code",
      "source": [
        "results"
      ],
      "metadata": {
        "colab": {
          "base_uri": "https://localhost:8080/"
        },
        "id": "28aaEoLkGQJ0",
        "outputId": "23c09d8e-55bf-470b-a6eb-8d28f474c9b4"
      },
      "execution_count": null,
      "outputs": [
        {
          "output_type": "execute_result",
          "data": {
            "text/plain": [
              "[(9, 'Nicole Harper', 432.61),\n",
              " (3, 'Shelly Green', 345.67),\n",
              " (7, 'Trevor Hernandez', 312.76),\n",
              " (8, 'Jessica Richards', 298.52),\n",
              " (13, 'Thomas Foster', 283.48)]"
            ]
          },
          "metadata": {},
          "execution_count": 24
        }
      ]
    },
    {
      "cell_type": "markdown",
      "source": [
        "Retrieve the list of customer whose order value is lower this year as compared to previous year"
      ],
      "metadata": {
        "id": "HC_1r54qH72G"
      }
    },
    {
      "cell_type": "code",
      "source": [
        "query = '''\n",
        "SELECT\n",
        "    c.CustomerID,\n",
        "    c.Name,\n",
        "    COALESCE(SUM(CASE WHEN strftime('%Y', o.OrderDate) = strftime('%Y', 'now') THEN o.TotalAmount ELSE 0 END), 0) AS CurrentYearTotal,\n",
        "    COALESCE(SUM(CASE WHEN strftime('%Y', o.OrderDate) = strftime('%Y', 'now', '-1 year') THEN o.TotalAmount ELSE 0 END), 0) AS PreviousYearTotal\n",
        "FROM\n",
        "    `Order` o\n",
        "JOIN\n",
        "    Customer c ON o.CustomerID = c.CustomerID\n",
        "GROUP BY\n",
        "    c.CustomerID, c.Name\n",
        "HAVING\n",
        "    CurrentYearTotal < PreviousYearTotal;\n",
        "'''\n",
        "\n",
        "# Execute the query\n",
        "cursor.execute(query)\n",
        "\n",
        "# Fetch all results\n",
        "results = cursor.fetchall()\n",
        "results"
      ],
      "metadata": {
        "colab": {
          "base_uri": "https://localhost:8080/"
        },
        "id": "BqbS7_wgH3R4",
        "outputId": "83bf4921-ab53-4c78-caa6-432f82cb92da"
      },
      "execution_count": null,
      "outputs": [
        {
          "output_type": "execute_result",
          "data": {
            "text/plain": [
              "[(3, 'Shelly Green', 345.67, 385.27),\n",
              " (5, 'Wendy York', 128.99, 319.81),\n",
              " (6, 'David Wells', 189.49, 354.72),\n",
              " (8, 'Jessica Richards', 298.52, 761.14),\n",
              " (9, 'Nicole Harper', 432.61, 618.9000000000001),\n",
              " (12, 'Shelby Johnson', 0, 170.37),\n",
              " (15, 'Kenneth Miller', 0, 333.42),\n",
              " (16, 'Randall Robinson', 0, 566.04),\n",
              " (17, 'Brandon Holland', 0, 414.2)]"
            ]
          },
          "metadata": {},
          "execution_count": 25
        }
      ]
    },
    {
      "cell_type": "markdown",
      "source": [
        "Create a table showing cumulative purchase by a particular customer. Show the breakup of cumulative purchases by product category"
      ],
      "metadata": {
        "id": "CS97RyOhP1a2"
      }
    },
    {
      "cell_type": "code",
      "source": [
        "customer_id = 2  # Replace with the desired customer ID\n",
        "\n",
        "# SQL query for cumulative purchases by product category\n",
        "query = '''\n",
        "SELECT\n",
        "    p.Category AS ProductCategory,\n",
        "    SUM(oi.Quantity * oi.PriceAtOrderTime) AS CumulativePurchase\n",
        "FROM\n",
        "    \"Order\" o\n",
        "JOIN\n",
        "    OrderItem oi ON o.OrderID = oi.OrderID\n",
        "JOIN\n",
        "    Variants v ON oi.VariantID = v.VariantID\n",
        "JOIN\n",
        "    Product p ON v.ProductID = p.ProductID\n",
        "WHERE\n",
        "    o.CustomerID = ?\n",
        "GROUP BY\n",
        "    p.Category\n",
        "ORDER BY\n",
        "    CumulativePurchase DESC;\n",
        "'''\n",
        "\n",
        "cursor.execute(query, (customer_id,))\n",
        "\n",
        "# Fetch all results\n",
        "results = cursor.fetchall()\n",
        "\n",
        "results"
      ],
      "metadata": {
        "colab": {
          "base_uri": "https://localhost:8080/"
        },
        "id": "TU5wz2XlPcM6",
        "outputId": "f3aa31aa-d3e7-4bf6-85f7-feaa334447cd"
      },
      "execution_count": null,
      "outputs": [
        {
          "output_type": "execute_result",
          "data": {
            "text/plain": [
              "[('Clothing', 10.48)]"
            ]
          },
          "metadata": {},
          "execution_count": 26
        }
      ]
    },
    {
      "cell_type": "markdown",
      "source": [
        "Create a table showing cumulative purchase by a particular customer. Show the breakup of cumulative purchases by product category"
      ],
      "metadata": {
        "id": "h-Ki6iQjKSWk"
      }
    },
    {
      "cell_type": "code",
      "source": [
        "query = '''\n",
        "SELECT\n",
        "    c.CustomerID,\n",
        "    c.Name AS CustomerName,\n",
        "    p.Category AS ProductCategory,\n",
        "    SUM(oi.Quantity * oi.PriceAtOrderTime) AS CumulativePurchase\n",
        "FROM\n",
        "    Customer c\n",
        "JOIN\n",
        "    `Order` o ON c.CustomerID = o.CustomerID\n",
        "JOIN\n",
        "    OrderItem oi ON o.OrderID = oi.OrderID\n",
        "JOIN\n",
        "    Variants v ON oi.VariantID = v.VariantID\n",
        "JOIN\n",
        "    Product p ON v.ProductID = p.ProductID\n",
        "GROUP BY\n",
        "    c.CustomerID, c.Name, p.Category\n",
        "ORDER BY\n",
        "    c.CustomerID, p.Category;\n",
        "'''\n",
        "\n",
        "cursor.execute(query)\n",
        "results = cursor.fetchall()\n",
        "\n",
        "# Print results\n",
        "print(\"Cumulative Purchase by Customer and Product Category:\")\n",
        "for row in results:\n",
        "    print(f\"Customer ID: {row[0]}, Customer Name: {row[1]}, Category: {row[2]}, Cumulative Purchase: {row[3]}\")\n"
      ],
      "metadata": {
        "colab": {
          "base_uri": "https://localhost:8080/"
        },
        "id": "tJDzQLGXJiE4",
        "outputId": "916ca850-8371-44d1-fa31-12da9c630a0a"
      },
      "execution_count": null,
      "outputs": [
        {
          "output_type": "stream",
          "name": "stdout",
          "text": [
            "Cumulative Purchase by Customer and Product Category:\n",
            "Customer ID: 1, Customer Name: Breanna Malone, Category: Groceries, Cumulative Purchase: 177.18\n",
            "Customer ID: 2, Customer Name: Christine Tyler, Category: Clothing, Cumulative Purchase: 10.48\n",
            "Customer ID: 3, Customer Name: Shelly Green, Category: Clothing, Cumulative Purchase: 407.65\n",
            "Customer ID: 3, Customer Name: Shelly Green, Category: Electronics, Cumulative Purchase: 83.36\n",
            "Customer ID: 3, Customer Name: Shelly Green, Category: Groceries, Cumulative Purchase: 248.10000000000002\n",
            "Customer ID: 4, Customer Name: Ryan Harris, Category: Clothing, Cumulative Purchase: 85.78\n",
            "Customer ID: 5, Customer Name: Wendy York, Category: Clothing, Cumulative Purchase: 141.27\n",
            "Customer ID: 5, Customer Name: Wendy York, Category: Electronics, Cumulative Purchase: 164.86\n",
            "Customer ID: 6, Customer Name: David Wells, Category: Clothing, Cumulative Purchase: 167.82\n",
            "Customer ID: 7, Customer Name: Trevor Hernandez, Category: Electronics, Cumulative Purchase: 183.9\n",
            "Customer ID: 8, Customer Name: Jessica Richards, Category: Clothing, Cumulative Purchase: 367.79\n",
            "Customer ID: 8, Customer Name: Jessica Richards, Category: Electronics, Cumulative Purchase: 447.26\n",
            "Customer ID: 8, Customer Name: Jessica Richards, Category: Groceries, Cumulative Purchase: 290.7\n",
            "Customer ID: 9, Customer Name: Nicole Harper, Category: Electronics, Cumulative Purchase: 70.11\n",
            "Customer ID: 9, Customer Name: Nicole Harper, Category: Groceries, Cumulative Purchase: 217.11\n",
            "Customer ID: 12, Customer Name: Shelby Johnson, Category: Electronics, Cumulative Purchase: 36.86\n",
            "Customer ID: 13, Customer Name: Thomas Foster, Category: Electronics, Cumulative Purchase: 420.15\n",
            "Customer ID: 13, Customer Name: Thomas Foster, Category: Groceries, Cumulative Purchase: 61.59\n",
            "Customer ID: 14, Customer Name: Christina Walker, Category: Groceries, Cumulative Purchase: 71.34\n",
            "Customer ID: 15, Customer Name: Kenneth Miller, Category: Electronics, Cumulative Purchase: 134.88\n",
            "Customer ID: 17, Customer Name: Brandon Holland, Category: Clothing, Cumulative Purchase: 527.6\n",
            "Customer ID: 17, Customer Name: Brandon Holland, Category: Groceries, Cumulative Purchase: 139.48\n"
          ]
        }
      ]
    },
    {
      "cell_type": "markdown",
      "source": [
        "Retrieve the list of top 5 selling products. Further bifurcate the sales by product variants"
      ],
      "metadata": {
        "id": "Mwzh-dlsKwpf"
      }
    },
    {
      "cell_type": "code",
      "source": [
        "query = '''\n",
        "SELECT\n",
        "    p.ProductID,\n",
        "    p.Name,\n",
        "    p.Category,\n",
        "    SUM(oi.Quantity) AS TotalQuantitySold\n",
        "FROM\n",
        "    OrderItem oi\n",
        "JOIN\n",
        "    Variants v ON oi.VariantID = v.VariantID\n",
        "JOIN\n",
        "    Product p ON v.ProductID = p.ProductID\n",
        "GROUP BY\n",
        "    p.ProductID, p.Name, p.Category\n",
        "ORDER BY\n",
        "    TotalQuantitySold DESC\n",
        "LIMIT 5;\n",
        "'''\n",
        "\n",
        "cursor.execute(query)\n",
        "\n",
        "results = cursor.fetchall()\n",
        "\n",
        "results"
      ],
      "metadata": {
        "colab": {
          "base_uri": "https://localhost:8080/"
        },
        "id": "2gzOsti7QmVT",
        "outputId": "8b580a4e-fd25-4184-cb19-24a9145f53d3"
      },
      "execution_count": null,
      "outputs": [
        {
          "output_type": "execute_result",
          "data": {
            "text/plain": [
              "[(8, 'Jacket', 'Clothing', 16),\n",
              " (11, 'Olive Oil', 'Groceries', 11),\n",
              " (2, 'T-shirt', 'Clothing', 8),\n",
              " (9, 'Sweater', 'Clothing', 8),\n",
              " (12, 'Monitor', 'Electronics', 7)]"
            ]
          },
          "metadata": {},
          "execution_count": 27
        }
      ]
    }
  ]
}